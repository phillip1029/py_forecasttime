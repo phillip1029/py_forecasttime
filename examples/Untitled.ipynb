{
 "cells": [
  {
   "cell_type": "code",
   "execution_count": 1,
   "id": "6edd7281",
   "metadata": {
    "ExecuteTime": {
     "end_time": "2021-05-03T20:12:28.180634Z",
     "start_time": "2021-05-03T20:12:26.195255Z"
    }
   },
   "outputs": [],
   "source": [
    "from fbprophet import *"
   ]
  },
  {
   "cell_type": "code",
   "execution_count": 10,
   "id": "4680a15e",
   "metadata": {
    "ExecuteTime": {
     "end_time": "2021-05-03T21:00:33.039135Z",
     "start_time": "2021-05-03T21:00:33.024747Z"
    }
   },
   "outputs": [
    {
     "ename": "NameError",
     "evalue": "name 'py_forecasttime' is not defined",
     "output_type": "error",
     "traceback": [
      "\u001b[0;31m---------------------------------------------------------------------------\u001b[0m",
      "\u001b[0;31mNameError\u001b[0m                                 Traceback (most recent call last)",
      "\u001b[0;32m<ipython-input-10-715989ea24cc>\u001b[0m in \u001b[0;36m<module>\u001b[0;34m\u001b[0m\n\u001b[0;32m----> 1\u001b[0;31m \u001b[0mhelp\u001b[0m\u001b[0;34m(\u001b[0m\u001b[0mpy_forecasttime\u001b[0m\u001b[0;34m)\u001b[0m\u001b[0;34m\u001b[0m\u001b[0;34m\u001b[0m\u001b[0m\n\u001b[0m",
      "\u001b[0;31mNameError\u001b[0m: name 'py_forecasttime' is not defined"
     ]
    }
   ],
   "source": [
    "help(py_forecasttime)"
   ]
  },
  {
   "cell_type": "code",
   "execution_count": 1,
   "id": "e9fad6e8",
   "metadata": {
    "ExecuteTime": {
     "end_time": "2021-05-03T21:05:25.795145Z",
     "start_time": "2021-05-03T21:05:25.705991Z"
    }
   },
   "outputs": [
    {
     "ename": "ModuleNotFoundError",
     "evalue": "No module named 'utils'",
     "output_type": "error",
     "traceback": [
      "\u001b[0;31m---------------------------------------------------------------------------\u001b[0m",
      "\u001b[0;31mModuleNotFoundError\u001b[0m                       Traceback (most recent call last)",
      "\u001b[0;32m<ipython-input-1-8d83c895227c>\u001b[0m in \u001b[0;36m<module>\u001b[0;34m\u001b[0m\n\u001b[0;32m----> 1\u001b[0;31m \u001b[0;32mfrom\u001b[0m \u001b[0mpy_forecasttime\u001b[0m\u001b[0;34m.\u001b[0m\u001b[0mutils\u001b[0m \u001b[0;32mimport\u001b[0m \u001b[0msplit_sequence\u001b[0m\u001b[0;34m\u001b[0m\u001b[0;34m\u001b[0m\u001b[0m\n\u001b[0m",
      "\u001b[0;32m/usr/local/lib/python3.8/site-packages/py_forecasttime/__init__.py\u001b[0m in \u001b[0;36m<module>\u001b[0;34m\u001b[0m\n\u001b[1;32m      1\u001b[0m \u001b[0;34m\u001b[0m\u001b[0m\n\u001b[0;32m----> 2\u001b[0;31m \u001b[0;32mfrom\u001b[0m \u001b[0mutils\u001b[0m \u001b[0;32mimport\u001b[0m \u001b[0;34m*\u001b[0m\u001b[0;34m\u001b[0m\u001b[0;34m\u001b[0m\u001b[0m\n\u001b[0m",
      "\u001b[0;31mModuleNotFoundError\u001b[0m: No module named 'utils'"
     ]
    }
   ],
   "source": [
    "from py_forecasttime.utils import split_sequence"
   ]
  },
  {
   "cell_type": "code",
   "execution_count": 3,
   "id": "5594434e",
   "metadata": {
    "ExecuteTime": {
     "end_time": "2021-05-03T20:35:23.077958Z",
     "start_time": "2021-05-03T20:35:21.722767Z"
    }
   },
   "outputs": [
    {
     "name": "stdout",
     "output_type": "stream",
     "text": [
      "Package                           Version\r\n",
      "--------------------------------- ---------\r\n",
      "absl-py                           0.12.0\r\n",
      "argon2-cffi                       20.1.0\r\n",
      "astropy                           4.2.1\r\n",
      "astunparse                        1.6.3\r\n",
      "async-generator                   1.10\r\n",
      "attrs                             20.3.0\r\n",
      "awscli                            1.19.62\r\n",
      "backcall                          0.2.0\r\n",
      "bleach                            3.3.0\r\n",
      "blis                              0.7.4\r\n",
      "botocore                          1.20.62\r\n",
      "cachetools                        4.2.2\r\n",
      "catalogue                         2.0.4\r\n",
      "catboost                          0.20.2\r\n",
      "certifi                           2020.12.5\r\n",
      "cffi                              1.14.5\r\n",
      "chardet                           4.0.0\r\n",
      "chart-studio                      1.1.0\r\n",
      "click                             7.1.2\r\n",
      "cmdstanpy                         0.9.5\r\n",
      "colorama                          0.4.3\r\n",
      "colorlover                        0.3.0\r\n",
      "confuse                           1.4.0\r\n",
      "convertdate                       2.3.2\r\n",
      "cufflinks                         0.17.0\r\n",
      "cycler                            0.10.0\r\n",
      "cymem                             2.0.5\r\n",
      "Cython                            0.29.23\r\n",
      "datefinder                        0.7.0\r\n",
      "DateTime                          4.3\r\n",
      "decorator                         5.0.7\r\n",
      "defusedxml                        0.7.1\r\n",
      "docutils                          0.15.2\r\n",
      "entrypoints                       0.3\r\n",
      "ephem                             3.7.7.1\r\n",
      "fbprophet                         0.7.1\r\n",
      "funcy                             1.15\r\n",
      "future                            0.18.2\r\n",
      "gast                              0.3.3\r\n",
      "gensim                            4.0.1\r\n",
      "google-auth                       1.30.0\r\n",
      "google-auth-oauthlib              0.4.4\r\n",
      "google-pasta                      0.2.0\r\n",
      "graphviz                          0.16\r\n",
      "grpcio                            1.37.1\r\n",
      "h5py                              2.10.0\r\n",
      "hijri-converter                   2.1.1\r\n",
      "holidays                          0.11.1\r\n",
      "htmlmin                           0.1.12\r\n",
      "idna                              2.10\r\n",
      "ipykernel                         5.5.3\r\n",
      "ipython                           7.23.0\r\n",
      "ipython-genutils                  0.2.0\r\n",
      "ipywidgets                        7.6.3\r\n",
      "jedi                              0.18.0\r\n",
      "Jinja2                            2.11.3\r\n",
      "jmespath                          0.10.0\r\n",
      "joblib                            1.0.1\r\n",
      "jsonschema                        3.2.0\r\n",
      "jupyter-client                    6.1.12\r\n",
      "jupyter-contrib-core              0.3.3\r\n",
      "jupyter-contrib-nbextensions      0.5.1\r\n",
      "jupyter-core                      4.7.1\r\n",
      "jupyter-highlight-selected-word   0.2.0\r\n",
      "jupyter-latex-envs                1.4.6\r\n",
      "jupyter-nbextensions-configurator 0.4.1\r\n",
      "jupyterlab-pygments               0.1.2\r\n",
      "jupyterlab-widgets                1.0.0\r\n",
      "jupyterthemes                     0.20.0\r\n",
      "Keras                             2.3.1\r\n",
      "Keras-Applications                1.0.8\r\n",
      "Keras-Preprocessing               1.1.2\r\n",
      "kiwisolver                        1.3.1\r\n",
      "kmodes                            0.10.1\r\n",
      "korean-lunar-calendar             0.2.1\r\n",
      "lesscpy                           0.14.0\r\n",
      "lightgbm                          2.3.1\r\n",
      "llvmlite                          0.36.0\r\n",
      "LunarCalendar                     0.0.9\r\n",
      "lxml                              4.6.3\r\n",
      "Markdown                          3.3.4\r\n",
      "MarkupSafe                        1.1.1\r\n",
      "matplotlib                        3.4.1\r\n",
      "matplotlib-inline                 0.1.2\r\n",
      "missingno                         0.4.2\r\n",
      "mistune                           0.8.4\r\n",
      "mlxtend                           0.18.0\r\n",
      "multitasking                      0.0.9\r\n",
      "murmurhash                        1.0.5\r\n",
      "nbclient                          0.5.3\r\n",
      "nbconvert                         6.0.7\r\n",
      "nbformat                          5.1.3\r\n",
      "nest-asyncio                      1.5.1\r\n",
      "nltk                              3.6.2\r\n",
      "notebook                          6.3.0\r\n",
      "numba                             0.53.1\r\n",
      "numexpr                           2.7.3\r\n",
      "numpy                             1.19.5\r\n",
      "oauthlib                          3.1.0\r\n",
      "opt-einsum                        3.3.0\r\n",
      "packaging                         20.9\r\n",
      "pandas                            1.2.4\r\n",
      "pandas-profiling                  2.3.0\r\n",
      "pandocfilters                     1.4.3\r\n",
      "parso                             0.8.2\r\n",
      "pathy                             0.5.2\r\n",
      "patsy                             0.5.1\r\n",
      "pexpect                           4.8.0\r\n",
      "phik                              0.11.0\r\n",
      "pickleshare                       0.7.5\r\n",
      "Pillow                            8.2.0\r\n",
      "pip                               21.1.1\r\n",
      "plotly                            4.4.1\r\n",
      "ply                               3.11\r\n",
      "pmdarima                          1.8.2\r\n",
      "preshed                           3.0.5\r\n",
      "prometheus-client                 0.10.1\r\n",
      "prompt-toolkit                    3.0.18\r\n",
      "protobuf                          3.15.8\r\n",
      "ptyprocess                        0.7.0\r\n",
      "pyasn1                            0.4.8\r\n",
      "pyasn1-modules                    0.2.8\r\n",
      "pycaret                           1.0.0\r\n",
      "pycparser                         2.20\r\n",
      "pydantic                          1.7.3\r\n",
      "pyerfa                            1.7.3\r\n",
      "Pygments                          2.9.0\r\n",
      "pyLDAvis                          3.2.2\r\n",
      "PyMeeus                           0.5.11\r\n",
      "pynndescent                       0.5.2\r\n",
      "pyod                              0.8.8\r\n",
      "pyparsing                         2.4.7\r\n",
      "pyrsistent                        0.17.3\r\n",
      "pystan                            2.19.1.1\r\n",
      "python-dateutil                   2.8.1\r\n",
      "Pytsforecast                      0.0.1\r\n",
      "pytz                              2021.1\r\n",
      "PyYAML                            5.4.1\r\n",
      "pyzmq                             22.0.3\r\n",
      "regex                             2021.4.4\r\n",
      "requests                          2.25.1\r\n",
      "requests-oauthlib                 1.3.0\r\n",
      "retrying                          1.3.3\r\n",
      "rsa                               4.7.2\r\n",
      "s3transfer                        0.4.2\r\n",
      "scikit-learn                      0.22\r\n",
      "scipy                             1.4.1\r\n",
      "seaborn                           0.11.1\r\n",
      "Send2Trash                        1.5.0\r\n",
      "setuptools                        56.0.0\r\n",
      "setuptools-git                    1.2\r\n",
      "shap                              0.32.1\r\n",
      "six                               1.15.0\r\n",
      "sklearn                           0.0\r\n",
      "smart-open                        3.0.0\r\n",
      "spacy                             3.0.6\r\n",
      "spacy-legacy                      3.0.5\r\n",
      "srsly                             2.4.1\r\n",
      "statsmodels                       0.12.2\r\n",
      "tensorboard                       2.2.2\r\n",
      "tensorboard-plugin-wit            1.8.0\r\n",
      "tensorflow                        2.2.0\r\n",
      "tensorflow-estimator              2.2.0\r\n",
      "termcolor                         1.1.0\r\n",
      "terminado                         0.9.4\r\n",
      "testpath                          0.4.4\r\n",
      "textblob                          0.15.3\r\n",
      "thinc                             8.0.3\r\n",
      "torch                             1.8.1\r\n",
      "tornado                           6.1\r\n",
      "tqdm                              4.60.0\r\n",
      "traitlets                         5.0.5\r\n",
      "typer                             0.3.2\r\n",
      "typing-extensions                 3.10.0.0\r\n",
      "umap-learn                        0.5.1\r\n",
      "urllib3                           1.26.4\r\n",
      "wasabi                            0.8.2\r\n",
      "wcwidth                           0.2.5\r\n",
      "webencodings                      0.5.1\r\n",
      "Werkzeug                          1.0.1\r\n",
      "wheel                             0.36.2\r\n",
      "widgetsnbextension                3.5.1\r\n",
      "wordcloud                         1.8.1\r\n",
      "wrapt                             1.12.1\r\n",
      "xgboost                           0.90\r\n",
      "yellowbrick                       1.0.1\r\n",
      "yfinance                          0.1.59\r\n",
      "zope.interface                    5.4.0\r\n"
     ]
    }
   ],
   "source": [
    "!pip list"
   ]
  },
  {
   "cell_type": "code",
   "execution_count": null,
   "id": "c0512f8a",
   "metadata": {},
   "outputs": [],
   "source": []
  }
 ],
 "metadata": {
  "kernelspec": {
   "display_name": "Python 3",
   "language": "python",
   "name": "python3"
  },
  "language_info": {
   "codemirror_mode": {
    "name": "ipython",
    "version": 3
   },
   "file_extension": ".py",
   "mimetype": "text/x-python",
   "name": "python",
   "nbconvert_exporter": "python",
   "pygments_lexer": "ipython3",
   "version": "3.8.9"
  },
  "toc": {
   "base_numbering": 1,
   "nav_menu": {},
   "number_sections": true,
   "sideBar": true,
   "skip_h1_title": false,
   "title_cell": "Table of Contents",
   "title_sidebar": "Contents",
   "toc_cell": false,
   "toc_position": {},
   "toc_section_display": true,
   "toc_window_display": false
  }
 },
 "nbformat": 4,
 "nbformat_minor": 5
}
