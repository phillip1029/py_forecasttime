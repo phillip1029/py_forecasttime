{
 "cells": [
  {
   "cell_type": "code",
   "execution_count": 9,
   "id": "0a912b31",
   "metadata": {
    "ExecuteTime": {
     "end_time": "2021-05-03T20:42:55.390285Z",
     "start_time": "2021-05-03T20:42:54.624251Z"
    }
   },
   "outputs": [],
   "source": [
    "from py_forecasttime.utils import split_sequence"
   ]
  },
  {
   "cell_type": "code",
   "execution_count": null,
   "id": "001c760c",
   "metadata": {},
   "outputs": [],
   "source": [
    "py_forecasttime\n"
   ]
  }
 ],
 "metadata": {
  "kernelspec": {
   "display_name": "Python 3",
   "language": "python",
   "name": "python3"
  },
  "language_info": {
   "codemirror_mode": {
    "name": "ipython",
    "version": 3
   },
   "file_extension": ".py",
   "mimetype": "text/x-python",
   "name": "python",
   "nbconvert_exporter": "python",
   "pygments_lexer": "ipython3",
   "version": "3.8.9"
  },
  "toc": {
   "base_numbering": 1,
   "nav_menu": {},
   "number_sections": true,
   "sideBar": true,
   "skip_h1_title": false,
   "title_cell": "Table of Contents",
   "title_sidebar": "Contents",
   "toc_cell": false,
   "toc_position": {},
   "toc_section_display": true,
   "toc_window_display": false
  }
 },
 "nbformat": 4,
 "nbformat_minor": 5
}
